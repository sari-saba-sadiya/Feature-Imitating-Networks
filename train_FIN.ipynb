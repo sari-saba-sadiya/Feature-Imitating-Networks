{
 "cells": [
  {
   "cell_type": "code",
   "execution_count": 1,
   "id": "5a144a5c",
   "metadata": {},
   "outputs": [],
   "source": [
    "import numpy as np\n",
    "from numpy import random\n",
    "import pandas as pd\n",
    "from scipy.signal import cwt,ricker\n",
    "from scipy import stats\n",
    "from sklearn.preprocessing import StandardScaler,normalize\n",
    "import tensorflow as tf\n",
    "import tensorflow.keras as keras\n",
    "import tensorflow.keras.optimizers\n",
    "from tensorflow.keras.models import Sequential\n",
    "from tensorflow.keras.layers import Flatten,concatenate,Layer,Dense,Activation,MaxPooling2D,Dropout,Conv2D,BatchNormalization,Reshape,UpSampling2D,ZeroPadding2D"
   ]
  },
  {
   "cell_type": "code",
   "execution_count": 2,
   "id": "35434b1f",
   "metadata": {},
   "outputs": [],
   "source": [
    "h  = 1"
   ]
  },
  {
   "cell_type": "code",
   "execution_count": 3,
   "id": "962b0eab",
   "metadata": {},
   "outputs": [],
   "source": [
    "random.seed(h)"
   ]
  },
  {
   "cell_type": "markdown",
   "id": "a5bd787d",
   "metadata": {},
   "source": [
    "## Closed Form Equation of Statistical Features we approximate"
   ]
  },
  {
   "cell_type": "code",
   "execution_count": 4,
   "id": "c11c7708",
   "metadata": {},
   "outputs": [],
   "source": [
    "def Entropy(eegData, bin_min, bin_max, binWidth=False):\n",
    "    # For optimal bin-width:\n",
    "    # Scott, D. 1979. On optimal and data-based histograms. Biometrika, 66:605-610.\n",
    "    # Three assumptions were made to obtain the Scott's result. \n",
    "    # First, the Scott's result is asymptotically true (i.e. it is true for large sample size n). \n",
    "    # Second, the scaling exponent -1/3 is true if the density is a smooth function. \n",
    "    # Third, the coefficient 3.49 was obtained, assuming the Gauss density function as a reference. \n",
    "    # binWidth = 3.49/np.cbrt(N)\n",
    "    if binWidth == False:\n",
    "        binWidth = 3.49/np.cbrt(eegData.shape[1])\n",
    "    H = np.zeros((eegData.shape[0], eegData.shape[2]))\n",
    "    for chan in range(H.shape[0]):\n",
    "        for epoch in range(H.shape[1]):\n",
    "            counts, binCenters = np.histogram(eegData[chan,:,epoch], bins=np.arange(bin_min+1, bin_max, binWidth))\n",
    "            nz = counts > 0\n",
    "            prob = counts[nz] / np.sum(counts[nz])\n",
    "            H[chan, epoch] = -np.dot(prob, np.log2(prob/binWidth))\n",
    "    return H"
   ]
  },
  {
   "cell_type": "code",
   "execution_count": 21,
   "id": "6de3f625",
   "metadata": {},
   "outputs": [],
   "source": [
    "def Kurtosis(eegData):\n",
    "    return stats.kurtosis(scaled_arr,axis=1)"
   ]
  },
  {
   "cell_type": "code",
   "execution_count": 85,
   "id": "6bf5798e",
   "metadata": {},
   "outputs": [],
   "source": [
    "def Skew(eegData):\n",
    "    return stats.skew(scaled_arr,axis=1)"
   ]
  },
  {
   "cell_type": "code",
   "execution_count": null,
   "id": "02ee4088",
   "metadata": {},
   "outputs": [],
   "source": [
    "def Regularity(eegData):\n",
    "    \"\"\"\n",
    "    Estimate frequency using autocorrelation\n",
    "    Return 1/px instead of fs / px \n",
    "    \"\"\"\n",
    "    def ApEn(U, m, r) -> float:\n",
    "    \"\"\"Approximate_entropy.\"\"\"\n",
    "        def _maxdist(x_i, x_j):\n",
    "            return max([abs(ua - va) for ua, va in zip(x_i, x_j)])\n",
    "        def _phi(m):\n",
    "            m = int(m)\n",
    "            x = [[U[j] for j in range(i, i + m - 1 + 1)] for i in range(N - m + 1)]\n",
    "            C = [len([1 for x_j in x if _maxdist(x_i, x_j) <= r]) / (N - m + 1.0)\n",
    "                for x_i in x]\n",
    "            return (N - m + 1.0) ** (-1) * sum(np.log(C))\n",
    "        N = len(U)\n",
    "        return abs(_phi(m + 1) - _phi(m))\n",
    "    \"\"\" Regularity Calculation \"\"\"\n",
    "    T = eegData.shape[1]\n",
    "    H = np.zeros((eegData.shape[0], eegData.shape[2]))\n",
    "    for chan in range(H.shape[0]):\n",
    "        for epoch in range(H.shape[1]):\n",
    "            H[chan,epoch] = ApEn(eegData[chan,:,epoch],T/5, 3)\n",
    "    return H"
   ]
  },
  {
   "cell_type": "code",
   "execution_count": 97,
   "id": "a21492f8",
   "metadata": {},
   "outputs": [],
   "source": [
    "# Z-scored np array\n",
    "# T x Ch x Epochs\n",
    "N = 500 # number of samples\n",
    "E = 100 # Number of Epochs\n",
    "input_arr = np.random.rand(N,1,E)\n",
    "scaled_arr = np.zeros(input_arr.shape)\n",
    "for ii in range(input_arr.shape[1]):\n",
    "    scaler = StandardScaler()\n",
    "    scaled_arr[:,ii,:] = scaler.fit_transform(input_arr[:,ii,:])"
   ]
  },
  {
   "cell_type": "code",
   "execution_count": 98,
   "id": "5a65b909",
   "metadata": {},
   "outputs": [
    {
     "data": {
      "text/plain": [
       "(100, 500, 1)"
      ]
     },
     "execution_count": 98,
     "metadata": {},
     "output_type": "execute_result"
    }
   ],
   "source": [
    "# Epochs X T X Ch\n",
    "scaled_arr = np.moveaxis(scaled_arr,2,0)\n",
    "scaled_arr.shape"
   ]
  },
  {
   "cell_type": "code",
   "execution_count": 99,
   "id": "f2a3de8d",
   "metadata": {},
   "outputs": [
    {
     "data": {
      "text/plain": [
       "(100, 500, 30)"
      ]
     },
     "execution_count": 99,
     "metadata": {},
     "output_type": "execute_result"
    }
   ],
   "source": [
    "do_cwt = True\n",
    "if do_cwt:\n",
    "    # Continuous wavelet transform\n",
    "    flat_data = np.squeeze(scaled_arr)\n",
    "    scaled_arr_cwt = []\n",
    "    for ii in range(flat_data.shape[0]):\n",
    "        widths = np.arange(1, 31)\n",
    "        cwtmatr = cwt(flat_data[ii], ricker, widths)\n",
    "        scaled_arr_cwt.append(np.moveaxis(cwtmatr,1,0))\n",
    "    scaled_arr3d = np.stack(scaled_arr_cwt)\n",
    "else:\n",
    "    scaled_arr3d = scaled_arr\n",
    "scaled_arr3d.shape"
   ]
  },
  {
   "cell_type": "code",
   "execution_count": 100,
   "id": "f9c86c79",
   "metadata": {},
   "outputs": [],
   "source": [
    "feature_res =np.squeeze(Skew(scaled_arr))"
   ]
  },
  {
   "cell_type": "markdown",
   "id": "8262abbe",
   "metadata": {},
   "source": [
    "## Load random pre-generated FIN topology and train the model"
   ]
  },
  {
   "cell_type": "code",
   "execution_count": 126,
   "id": "f8ac528c",
   "metadata": {},
   "outputs": [],
   "source": [
    "def make_FIN(topology,size3D,N,name=\"my-FIN\"):\n",
    "    input_layer = keras.Input(shape=(N,size3D))\n",
    "    x = Flatten()(input_layer)\n",
    "    for layer in topology['layers']:\n",
    "        x = Dense(layer['output_shape'], activation=layer['activation'])(x)\n",
    "        if layer['BatchNorm']:\n",
    "            x = BatchNormalization(axis=1)(x)\n",
    "    fin_out = Dense(1, activation='linear')(x)\n",
    "    fin = keras.Model(input_layer, fin_out, name=name)\n",
    "    return fin"
   ]
  },
  {
   "cell_type": "code",
   "execution_count": 143,
   "id": "7636d40a",
   "metadata": {},
   "outputs": [],
   "source": [
    "all_tp =  np.load('hyper_parameters.npy', allow_pickle=True)[()]\n",
    "topology = all_tp[1]\n",
    "fin = make_FIN(topology,30,N)"
   ]
  },
  {
   "cell_type": "code",
   "execution_count": 144,
   "id": "a29df8ac",
   "metadata": {},
   "outputs": [],
   "source": [
    "learning_rate=topology['lr']\n",
    "momentum=topology['momentum']\n",
    "nesterov=topology['nesterov']\n",
    "b1 = topology['b1']\n",
    "b2 = topology['b2']\n",
    "if topology['opt'] == 'SGD':\n",
    "    grad_desc_algorithm = tf.keras.optimizers.SGD(learning_rate=learning_rate,momentum=momentum,nesterov=nesterov)\n",
    "if topology['opt'] == 'ADAM':\n",
    "    grad_desc_algorithm = tf.keras.optimizers.Adam(learning_rate=learning_rate,beta_1=b1,beta_2=b2)"
   ]
  },
  {
   "cell_type": "code",
   "execution_count": null,
   "id": "bb9473d7",
   "metadata": {},
   "outputs": [],
   "source": [
    "fin.compile(optimizer = grad_desc_algorithm,loss = topology['loss']) # Loss definitions\n",
    "loss_d = fin.fit(scaled_arr3d, feature_res, # Fit on the dataset\n",
    "            epochs = 10,\n",
    "            batch_size = 500,\n",
    "            verbose         = 1)              # display options to console"
   ]
  },
  {
   "cell_type": "markdown",
   "id": "6cb18b9d",
   "metadata": {},
   "source": [
    "## Loading a Trained Model"
   ]
  },
  {
   "cell_type": "code",
   "execution_count": 26,
   "id": "cbb255d8",
   "metadata": {},
   "outputs": [],
   "source": [
    "from keras.models import load_model\n",
    "import matplotlib.pyplot as plt"
   ]
  },
  {
   "cell_type": "code",
   "execution_count": 39,
   "id": "b88935bb",
   "metadata": {},
   "outputs": [],
   "source": [
    "trained_model = load_model('./skew_dense_model_1.h5')"
   ]
  },
  {
   "cell_type": "code",
   "execution_count": 104,
   "id": "b7b74315",
   "metadata": {},
   "outputs": [],
   "source": [
    "mod_res = trained_model.predict(scaled_arr3d[:20])"
   ]
  },
  {
   "cell_type": "code",
   "execution_count": 105,
   "id": "91bd9cf2",
   "metadata": {},
   "outputs": [],
   "source": [
    "fet_res = feature_res[:20]"
   ]
  },
  {
   "cell_type": "code",
   "execution_count": 106,
   "id": "072fd38c",
   "metadata": {},
   "outputs": [
    {
     "data": {
      "text/plain": [
       "[<matplotlib.lines.Line2D at 0x7f32cc02d278>,\n",
       " <matplotlib.lines.Line2D at 0x7f32cc02d2e8>]"
      ]
     },
     "execution_count": 106,
     "metadata": {},
     "output_type": "execute_result"
    },
    {
     "data": {
      "image/png": "[encoded data removed]",
      "text/plain": [
       "<Figure size 432x288 with 1 Axes>"
      ]
     },
     "metadata": {
      "needs_background": "light"
     },
     "output_type": "display_data"
    }
   ],
   "source": [
    "plt.plot(range(fet_res.size),mod_res,range(fet_res.size),fet_res)"
   ]
  },
  {
   "cell_type": "code",
   "execution_count": null,
   "id": "071aa318",
   "metadata": {},
   "outputs": [],
   "source": []
  }
 ],
 "metadata": {
  "kernelspec": {
   "display_name": "Python 3",
   "language": "python",
   "name": "python3"
  },
  "language_info": {
   "codemirror_mode": {
    "name": "ipython",
    "version": 3
   },
   "file_extension": ".py",
   "mimetype": "text/x-python",
   "name": "python",
   "nbconvert_exporter": "python",
   "pygments_lexer": "ipython3",
   "version": "3.6.13"
  }
 },
 "nbformat": 4,
 "nbformat_minor": 5
}
