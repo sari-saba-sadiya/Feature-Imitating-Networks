{
 "cells": [
  {
   "cell_type": "code",
   "execution_count": 32,
   "id": "44595461",
   "metadata": {},
   "outputs": [],
   "source": [
    "import tensorflow as tf\n",
    "import tensorflow.keras as keras\n",
    "import tensorflow.keras.optimizers\n",
    "from tensorflow.keras.models import Sequential\n",
    "from tensorflow.keras.layers import Input,Flatten,concatenate,Layer, Dense, Activation,ZeroPadding2D\n",
    "from tensorflow.keras.layers import MaxPooling2D,Dropout,BatchNormalization,Reshape,UpSampling2D\n",
    "from tensorflow.keras.utils import to_categorical\n",
    "from keras.models import load_model\n",
    "from keras.callbacks import EarlyStopping\n",
    "from tensorflow.keras.applications import VGG19"
   ]
  },
  {
   "cell_type": "code",
   "execution_count": 33,
   "id": "fb646dce",
   "metadata": {},
   "outputs": [],
   "source": [
    "import numpy as np\n",
    "from numpy import random\n",
    "import matplotlib.pyplot as plt\n",
    "from sklearn.metrics import accuracy_score\n",
    "from scipy.interpolate import interp1d"
   ]
  },
  {
   "cell_type": "code",
   "execution_count": 34,
   "id": "743c1153",
   "metadata": {},
   "outputs": [],
   "source": [
    "from scipy.signal import cwt,ricker\n",
    "from sklearn.preprocessing import StandardScaler\n",
    "import time"
   ]
  },
  {
   "cell_type": "code",
   "execution_count": 35,
   "id": "c5b07490",
   "metadata": {},
   "outputs": [],
   "source": [
    "import sys"
   ]
  },
  {
   "cell_type": "code",
   "execution_count": 36,
   "id": "0f77a8b0",
   "metadata": {},
   "outputs": [],
   "source": [
    "class timecallback(tf.keras.callbacks.Callback):\n",
    "    def __init__(self):\n",
    "        self.times = []\n",
    "        # use this value as reference to calculate cummulative time taken\n",
    "        self.timetaken = time.clock()\n",
    "    def on_epoch_end(self,epoch,logs = {}):\n",
    "        self.times.append((epoch,time.clock() - self.timetaken))\n",
    "    def on_train_end(self,logs = {}):\n",
    "        print('total training time: ',np.sum(self.times))"
   ]
  },
  {
   "cell_type": "markdown",
   "id": "a89baf93",
   "metadata": {},
   "source": [
    "Which fold to run options: 1-6. Also initializes the ransom seed"
   ]
  },
  {
   "cell_type": "code",
   "execution_count": 37,
   "id": "eaf70a84",
   "metadata": {},
   "outputs": [],
   "source": [
    "h  = 1 #int(sys.argv[1])\n",
    "rand_sd  = 1181 #int(sys.argv[2])"
   ]
  },
  {
   "cell_type": "code",
   "execution_count": 38,
   "id": "7ef39267",
   "metadata": {},
   "outputs": [],
   "source": [
    "random.seed(rand_sd)\n",
    "tf.random.set_seed(rand_sd)"
   ]
  },
  {
   "cell_type": "markdown",
   "id": "6c9e1c46",
   "metadata": {},
   "source": [
    "## Baseline\n",
    "Generate random topology and create a classifier "
   ]
  },
  {
   "cell_type": "code",
   "execution_count": 39,
   "id": "e96e31a0",
   "metadata": {},
   "outputs": [],
   "source": [
    "def classify_dense(topology,size3D,N):\n",
    "    input_layer = keras.Input(shape=(N,size3D))\n",
    "    x = Flatten()(input_layer)\n",
    "    for layer in topology['layers']:\n",
    "        x = Dense(layer['output_shape'], activation=layer['activation'])(x)\n",
    "        if random.uniform(0, 1):\n",
    "            x = BatchNormalization(axis=1)(x)\n",
    "    classify_out = Dense(2, activation='softmax')(x)\n",
    "    classifier = keras.Model(input_layer, classify_out, name=\"shanon\")\n",
    "    return classifier"
   ]
  },
  {
   "cell_type": "code",
   "execution_count": 40,
   "id": "58b6be52",
   "metadata": {},
   "outputs": [],
   "source": [
    "# We transform to the data to the frequency domain using\n",
    "# a Continuous wavelet transform of width 30\n",
    "numChan = 1\n",
    "size3D = 30*numChan\n",
    "N = 500\n",
    "num_layers = 5"
   ]
  },
  {
   "cell_type": "code",
   "execution_count": 41,
   "id": "7bd366b4",
   "metadata": {},
   "outputs": [],
   "source": [
    "topology = {}\n",
    "layer_shape = 32*random.randint(5, 40)\n",
    "topology['layers'] = []\n",
    "topology['lstm_layers'] = []\n",
    "for ii in range(num_layers):\n",
    "    layer = {}\n",
    "    layer['output_shape'] = layer_shape\n",
    "    layer_shape = int(layer_shape / 2)\n",
    "    layer['activation'] = 'relu'\n",
    "    topology['layers'].append(layer)\n",
    "layer_shape = 32*random.randint(5, 40)"
   ]
  },
  {
   "cell_type": "markdown",
   "id": "baa82cdd",
   "metadata": {},
   "source": [
    "## Load the data\n",
    "Exclude one subject for validationa nd one for testing"
   ]
  },
  {
   "cell_type": "code",
   "execution_count": 42,
   "id": "aa608fd0",
   "metadata": {},
   "outputs": [],
   "source": [
    "exclude_subj = 2*h-1\n",
    "val_subj = 2*h"
   ]
  },
  {
   "cell_type": "code",
   "execution_count": 43,
   "id": "336fc1ac",
   "metadata": {},
   "outputs": [],
   "source": [
    "x = []\n",
    "y = []\n",
    "for ii in range(1,12+1):\n",
    "    if ii == exclude_subj:\n",
    "        ii = 12\n",
    "        x1 = np.load('./Experiment3_data/'+str(ii)+'_N_c.npy')\n",
    "        y1 = np.zeros((x1.shape[0]))\n",
    "        x2 = np.load('./Experiment3_data/'+str(ii)+'_F_c.npy')\n",
    "        y2 = np.ones((x2.shape[0]))\n",
    "        x_tst = np.concatenate([x1[:,:,numChan-1:numChan],x2[:,:,numChan-1:numChan]],axis=0)\n",
    "        y_tst = np.concatenate([y1,y2],axis=0)\n",
    "    if ii == val_subj:\n",
    "        ii = 12\n",
    "        x1 = np.load('./Experiment3_data/'+str(ii)+'_N_c.npy')\n",
    "        y1 = np.zeros((x1.shape[0]))\n",
    "        x2 = np.load('./Experiment3_data/'+str(ii)+'_F_c.npy')\n",
    "        y2 = np.ones((x2.shape[0]))\n",
    "        x_val = np.concatenate([x1[:,:,numChan-1:numChan],x2[:,:,numChan-1:numChan]],axis=0)\n",
    "        y_val = np.concatenate([y1,y2],axis=0)\n",
    "    x1 = np.load('./Experiment3_data/'+str(ii)+'_N_c.npy')\n",
    "    y1 = np.zeros((x1.shape[0]))\n",
    "    x2 = np.load('./Experiment3_data/'+str(ii)+'_F_c.npy')\n",
    "    y2 = np.ones((x2.shape[0]))\n",
    "    x.append(x1[:,:,numChan-1:numChan])\n",
    "    x.append(x2[:,:,numChan-1:numChan])\n",
    "    y.append(y1)\n",
    "    y.append(y2)"
   ]
  },
  {
   "cell_type": "code",
   "execution_count": 44,
   "id": "5bb85be7",
   "metadata": {},
   "outputs": [],
   "source": [
    "x_trn = np.concatenate(x,axis=0)\n",
    "y_trn = np.concatenate(y,axis=0)"
   ]
  },
  {
   "cell_type": "code",
   "execution_count": 45,
   "id": "e4e6e945",
   "metadata": {},
   "outputs": [],
   "source": [
    "y_trn_1h = to_categorical(y_trn, num_classes=2)\n",
    "y_tst_1h = to_categorical(y_tst, num_classes=2)\n",
    "y_val_1h = to_categorical(y_val, num_classes=2)"
   ]
  },
  {
   "cell_type": "code",
   "execution_count": 46,
   "id": "dcedf755",
   "metadata": {},
   "outputs": [],
   "source": [
    "x_trn2  = np.moveaxis(x_trn,0,-1)\n",
    "x_tst2  = np.moveaxis(x_tst,0,-1)\n",
    "x_val2  = np.moveaxis(x_val,0,-1)"
   ]
  },
  {
   "cell_type": "code",
   "execution_count": 47,
   "id": "9bf48992",
   "metadata": {},
   "outputs": [],
   "source": [
    "# to generate limited data plot\n",
    "p = np.random.permutation(len(y_trn_1h))"
   ]
  },
  {
   "cell_type": "markdown",
   "id": "63f4360f",
   "metadata": {},
   "source": [
    "Z-scored and transform to a np array of T x Ch x Epochs"
   ]
  },
  {
   "cell_type": "code",
   "execution_count": 48,
   "id": "8701d1dc",
   "metadata": {},
   "outputs": [],
   "source": [
    "scld_x_trn = np.zeros(x_trn2.shape)\n",
    "for ii in range(x_trn2.shape[1]):\n",
    "    scaler = StandardScaler()\n",
    "    scld_x_trn[:,ii,:] = scaler.fit_transform(x_trn2[:,ii,:])\n",
    "scld_x_tst = np.zeros(x_tst2.shape)\n",
    "for ii in range(x_tst2.shape[1]):\n",
    "    scaler = StandardScaler()\n",
    "    scld_x_tst[:,ii,:] = scaler.fit_transform(x_tst2[:,ii,:])\n",
    "scld_x_val = np.zeros(x_val2.shape)\n",
    "for ii in range(x_val2.shape[1]):\n",
    "    scaler = StandardScaler()\n",
    "    scld_x_val[:,ii,:] = scaler.fit_transform(x_val2[:,ii,:])"
   ]
  },
  {
   "cell_type": "markdown",
   "id": "dee8d6e8",
   "metadata": {},
   "source": [
    "Apply a Continuous wavelet transform of width 30"
   ]
  },
  {
   "cell_type": "code",
   "execution_count": 49,
   "id": "670e364f",
   "metadata": {},
   "outputs": [],
   "source": [
    "widths = np.arange(1, 31)\n",
    "scld_x_trn_cwt = np.zeros((scld_x_trn.shape[0],scld_x_trn.shape[1]*30,scld_x_trn.shape[2]))\n",
    "for ep in range(scld_x_trn.shape[2]):\n",
    "    cwtmatr_lst = []\n",
    "    for ch in range(scld_x_trn.shape[1]):\n",
    "        cwtmatr = cwt(scld_x_trn[:,ch,ep], ricker, widths)\n",
    "        cwtmatr = np.moveaxis(cwtmatr,1,0)\n",
    "        cwtmatr_lst.append(cwtmatr)\n",
    "    scld_x_trn_cwt[:,:,ep] = np.concatenate(cwtmatr_lst,axis=1)"
   ]
  },
  {
   "cell_type": "code",
   "execution_count": 50,
   "id": "bda9546b",
   "metadata": {},
   "outputs": [],
   "source": [
    "widths = np.arange(1, 31)\n",
    "scld_x_tst_cwt = np.zeros((scld_x_tst.shape[0],scld_x_tst.shape[1]*30,scld_x_tst.shape[2]))\n",
    "for ep in range(scld_x_tst.shape[2]):\n",
    "    cwtmatr_lst = []\n",
    "    for ch in range(scld_x_tst.shape[1]):\n",
    "        cwtmatr = cwt(scld_x_tst[:,ch,ep], ricker, widths)\n",
    "        cwtmatr = np.moveaxis(cwtmatr,1,0)\n",
    "        cwtmatr_lst.append(cwtmatr)\n",
    "    scld_x_tst_cwt[:,:,ep] = np.concatenate(cwtmatr_lst,axis=1)"
   ]
  },
  {
   "cell_type": "code",
   "execution_count": 51,
   "id": "8ef0f428",
   "metadata": {},
   "outputs": [],
   "source": [
    "widths = np.arange(1, 31)\n",
    "scld_x_val_cwt = np.zeros((scld_x_val.shape[0],scld_x_val.shape[1]*30,scld_x_val.shape[2]))\n",
    "for ep in range(scld_x_val.shape[2]):\n",
    "    cwtmatr_lst = []\n",
    "    for ch in range(scld_x_val.shape[1]):\n",
    "        cwtmatr = cwt(scld_x_val[:,ch,ep], ricker, widths)\n",
    "        cwtmatr = np.moveaxis(cwtmatr,1,0)\n",
    "        cwtmatr_lst.append(cwtmatr)\n",
    "    scld_x_val_cwt[:,:,ep] = np.concatenate(cwtmatr_lst,axis=1)"
   ]
  },
  {
   "cell_type": "code",
   "execution_count": 52,
   "id": "89b2f805",
   "metadata": {},
   "outputs": [],
   "source": [
    "scld_x_trn_cwt_swch = np.moveaxis(scld_x_trn_cwt,-1,0)\n",
    "scld_x_tst_cwt_swch = np.moveaxis(scld_x_tst_cwt,-1,0)\n",
    "scld_x_val_cwt_swch = np.moveaxis(scld_x_val_cwt,-1,0)"
   ]
  },
  {
   "cell_type": "code",
   "execution_count": 53,
   "id": "4636341c",
   "metadata": {},
   "outputs": [
    {
     "data": {
      "text/plain": [
       "(7200, 500, 30)"
      ]
     },
     "execution_count": 53,
     "metadata": {},
     "output_type": "execute_result"
    }
   ],
   "source": [
    "scld_x_trn_cwt_swch.shape"
   ]
  },
  {
   "cell_type": "markdown",
   "id": "c1036a2f",
   "metadata": {},
   "source": [
    "## Running the neural networks\n",
    "For the VGG, dense, and FIN networks\n",
    "\n",
    "Useful when you want to run multiple iterations in parallel"
   ]
  },
  {
   "cell_type": "code",
   "execution_count": 54,
   "id": "7b1c4d8f",
   "metadata": {},
   "outputs": [],
   "source": [
    "def run_dense_once(topology,size3D,N,scld_x_trn_cwt_swch,y_trn_1h,scld_x_val_cwt_swch,y_val_1h,scld_x_tst_cwt_swch,y_tst,pIdx,Epoch_num):\n",
    "    dense = classify_dense(topology,size3D,N)\n",
    "    # simple early stopping\n",
    "    es = EarlyStopping(monitor='val_loss', mode='min', verbose=1,patience=3)\n",
    "    tm = timecallback()\n",
    "    grad_desc_algorithm = keras.optimizers.SGD()\n",
    "    dense.compile(optimizer = grad_desc_algorithm,\n",
    "                       loss = 'categorical_crossentropy') # Loss definitions\n",
    "    loss_d = dense.fit(scld_x_trn_cwt_swch[pIdx,:,:], y_trn_1h[pIdx,:],   # Fit on the dataset\n",
    "                validation_data=(scld_x_val_cwt_swch,y_val_1h),\n",
    "                epochs = Epoch_num,\n",
    "                batch_size = 100,\n",
    "                verbose = 0,                      # display options to console\n",
    "                callbacks=[es,tm],\n",
    "                shuffle=True)\n",
    "    y_pred_1h = dense.predict(scld_x_tst_cwt_swch)\n",
    "    y_pred = np.argmax(y_pred_1h,axis=1)\n",
    "    return accuracy_score(y_pred,y_tst),loss_d"
   ]
  },
  {
   "cell_type": "code",
   "execution_count": 55,
   "id": "4c3d3830",
   "metadata": {},
   "outputs": [],
   "source": [
    "def run_sh_once(sh_model,size3D,N,scld_x_trn_cwt_swch,\n",
    "                y_trn_1h,scld_x_val_cwt_swch,y_val_1h,scld_x_tst_cwt_swch,y_tst,pIdx,Epoch_num):\n",
    "    sh_model1 = keras.models.clone_model(sh_model)\n",
    "    # Scott, D. 1979. On optimal and data-based histograms. Biometrika, 66:605-610.\n",
    "    # Three assumptions were made to obtain the Scott's result. \n",
    "    # First, the Scott's result is asymptotically true (i.e. it is true for large sample size n). \n",
    "    # Second, the scaling exponent -1/3 is true if the density is a smooth function. \n",
    "    # Third, the coefficient 3.49 was obtained, assuming the Gauss density function as a reference. \n",
    "    binWidth = 3.49/np.cbrt(N)\n",
    "    sh_inp0 = sh_model1.input[0]\n",
    "    sh_inp1 = sh_model1.input[1]\n",
    "    sh_out = sh_model1.layers[-2].output\n",
    "    sh_model2 = keras.Model([sh_inp0,sh_inp1], sh_out)\n",
    "    in_ch = Input(batch_shape=(None, 500, 30))\n",
    "    in_bW = Input(batch_shape=(None, 1, 30))\n",
    "    out = sh_model2([in_ch,in_bW])\n",
    "    classify_out = Dense(2, activation='softmax')(out)\n",
    "    bw_arr = np.ones((scld_x_trn_cwt_swch.shape[0],1,30))*binWidth\n",
    "    bw_arr_val = np.ones((scld_x_val_cwt_swch.shape[0],1,30))*binWidth\n",
    "    bw_arr_tst = np.ones((scld_x_tst_cwt_swch.shape[0],1,30))*binWidth\n",
    "    model2 = keras.Model([in_ch,in_bW], classify_out)\n",
    "    # simple early stopping\n",
    "    es = EarlyStopping(monitor='val_loss', mode='min', verbose=1,patience=3)\n",
    "    tm = timecallback()\n",
    "    grad_desc_algorithm = keras.optimizers.SGD()\n",
    "    model2.compile(optimizer = grad_desc_algorithm,\n",
    "                       loss = 'categorical_crossentropy') # Loss definitions\n",
    "    loss_2 = model2.fit([scld_x_trn_cwt_swch[pIdx,:,:],bw_arr[pIdx,:]], y_trn_1h[pIdx,:],   # Fit on the dataset\n",
    "                validation_data=([scld_x_val_cwt_swch,bw_arr_tst],y_val_1h),\n",
    "                epochs = Epoch_num,\n",
    "                batch_size = 100,\n",
    "                verbose         = 0,                      # display options to console\n",
    "                callbacks=[es,tm],\n",
    "                shuffle=True)\n",
    "    y_pred_1h = model2.predict([scld_x_tst_cwt_swch,bw_arr_tst])\n",
    "    y_pred = np.argmax(y_pred_1h,axis=1)\n",
    "    return accuracy_score(y_pred,y_tst),loss_2"
   ]
  },
  {
   "cell_type": "code",
   "execution_count": 56,
   "id": "4c305a0f",
   "metadata": {},
   "outputs": [],
   "source": [
    "def get_vgg(vgg_data,num_classes):\n",
    "    vgg_dat = Input(shape=vgg_data.shape[1:])\n",
    "    vgg = VGG19(\n",
    "        include_top=False, weights='imagenet',\n",
    "        input_shape=vgg_data.shape[1:], pooling=None,\n",
    "        input_tensor=vgg_dat)\n",
    "    vgg_out = vgg.layers[-1].output\n",
    "    vgg_out_f = Flatten()(vgg_out)\n",
    "    classify_vgg = Dense(num_classes, activation='softmax')(vgg_out_f)\n",
    "    vgg_model2 = keras.Model(vgg_dat, classify_vgg)\n",
    "    return vgg_model2"
   ]
  },
  {
   "cell_type": "code",
   "execution_count": 57,
   "id": "06ef6a43",
   "metadata": {},
   "outputs": [],
   "source": [
    "# We need to pad the data as VGG expects a unique format\n",
    "# This is how this is usuallu done: https://ieeexplore.ieee.org/document/8772136\n",
    "def data2vgg(data):\n",
    "    vgg_data = []\n",
    "    for ii in range(data.shape[0]):\n",
    "        ext_dat = np.pad(data[ii,:,:],[(0,0),(1,1)],mode='symmetric')\n",
    "        vgg_data.append(np.stack([ext_dat,ext_dat,ext_dat],axis=2))\n",
    "    vgg_data = np.array(vgg_data)\n",
    "    return vgg_data"
   ]
  },
  {
   "cell_type": "code",
   "execution_count": 58,
   "id": "f46e103a",
   "metadata": {},
   "outputs": [],
   "source": [
    "def run_vgg_once(size3D,N,scld_x_trn_cwt_swch,\n",
    "                y_trn_1h,scld_x_val_cwt_swch,y_val_1h,scld_x_tst_cwt_swch,y_tst,pIdx,Epoch_num):\n",
    "    vx_trn = data2vgg(scld_x_trn_cwt_swch)\n",
    "    vx_val = data2vgg(scld_x_val_cwt_swch)\n",
    "    vx_tst = data2vgg(scld_x_tst_cwt_swch)\n",
    "    vgg_model2 = get_vgg(vx_trn,2)\n",
    "    es = EarlyStopping(monitor='val_loss', mode='min', verbose=1,patience=3)\n",
    "    tm = timecallback()\n",
    "    grad_desc_algorithm = keras.optimizers.SGD()\n",
    "    vgg_model2.compile(optimizer = grad_desc_algorithm,loss = 'categorical_crossentropy') # Loss definitions\n",
    "    loss_d = vgg_model2.fit(vx_trn, y_trn_1h,   # Fit on the dataset\n",
    "                validation_data=(vx_val,y_val_1h),\n",
    "                epochs = Epoch_num,\n",
    "                batch_size = 100,\n",
    "                verbose = 1,                      # display options to console\n",
    "                callbacks=[es,tm],\n",
    "                shuffle=True)\n",
    "    y_pred_1h = vgg_model2.predict(vx_tst)\n",
    "    y_pred = np.argmax(y_pred_1h,axis=1)\n",
    "    return accuracy_score(y_pred,y_tst),loss_d"
   ]
  },
  {
   "cell_type": "markdown",
   "id": "d32cf327",
   "metadata": {},
   "source": [
    "# The Experiemnt\n",
    "load the pretrained entropy network"
   ]
  },
  {
   "cell_type": "code",
   "execution_count": 59,
   "id": "75b535c1",
   "metadata": {},
   "outputs": [],
   "source": [
    "sh_model = load_model('./trained_models/entropy_dense.h5')"
   ]
  },
  {
   "cell_type": "code",
   "execution_count": 60,
   "id": "08b364fc",
   "metadata": {},
   "outputs": [],
   "source": [
    "Epoch_num = 5"
   ]
  },
  {
   "cell_type": "code",
   "execution_count": 61,
   "id": "f774b07c",
   "metadata": {},
   "outputs": [],
   "source": [
    "#r = np.random.RandomState()\n",
    "#saved_state = r.get_state()\n",
    "#r.set_state(saved_state)\n",
    "random.seed(rand_sd)\n",
    "tf.random.set_seed(rand_sd)"
   ]
  },
  {
   "cell_type": "code",
   "execution_count": 62,
   "id": "72cdf91f",
   "metadata": {},
   "outputs": [
    {
     "name": "stdout",
     "output_type": "stream",
     "text": [
      "-----------------------\n",
      "for dense:\n",
      "total training time:  38.290956999999935\n",
      "0.7816666666666666\n",
      "for FIN:\n",
      "total training time:  48.40620699999994\n",
      "0.7883333333333333\n",
      "-----------------------\n",
      "for dense:\n",
      "total training time:  61.048625000000044\n",
      "0.8933333333333333\n",
      "for FIN:\n",
      "total training time:  81.93839799999992\n",
      "0.9316666666666666\n",
      "-----------------------\n",
      "for dense:\n",
      "total training time:  83.46639200000001\n",
      "0.9616666666666667\n",
      "for FIN:\n",
      "total training time:  114.17271100000005\n",
      "0.9833333333333333\n",
      "-----------------------\n",
      "for dense:\n",
      "total training time:  109.08939500000008\n",
      "0.9766666666666667\n",
      "for FIN:\n",
      "total training time:  152.67647500000004\n",
      "0.9916666666666667\n"
     ]
    }
   ],
   "source": [
    "acc_dic = {'dense':[],'fin':[],'vgg':[]}\n",
    "for pp in range(25,125,25):\n",
    "    data_per = pp\n",
    "    pIdx = p[0:int(len(y_trn_1h)*data_per/100)]\n",
    "    acc_lst_d = []\n",
    "    acc_lst_f = []\n",
    "    acc_lst_v = []\n",
    "    for ii in range(1):\n",
    "        print('-----------------------')\n",
    "        print('for dense:')\n",
    "        acc, loss = run_dense_once(topology,size3D,N,scld_x_trn_cwt_swch,y_trn_1h,scld_x_val_cwt_swch,y_val_1h,scld_x_tst_cwt_swch,y_tst,pIdx,Epoch_num)\n",
    "        acc_lst_d.append(acc)\n",
    "        print(acc)\n",
    "        print('for FIN:')\n",
    "        acc, loss = run_sh_once(sh_model,size3D,N,scld_x_trn_cwt_swch,y_trn_1h,scld_x_val_cwt_swch,y_val_1h,scld_x_tst_cwt_swch,y_tst,pIdx,Epoch_num)\n",
    "        acc_lst_f.append(acc)\n",
    "        print(acc)\n",
    "        #print('for VGG:')\n",
    "        #acc, loss = run_vgg_once(size3D,N,scld_x_trn_cwt_swch,y_trn_1h,scld_x_val_cwt_swch,y_val_1h,scld_x_tst_cwt_swch,y_tst,pIdx,Epoch_num)\n",
    "        #acc_lst_v.append(acc)\n",
    "        #print(acc)\n",
    "        #print('###########################')\n",
    "    acc_dic['dense'].append(acc_lst_d)\n",
    "    acc_dic['fin'].append(acc_lst_f)\n",
    "    #acc_dic['v'].append(acc_lst_v)"
   ]
  },
  {
   "cell_type": "code",
   "execution_count": 63,
   "id": "2883d3f3",
   "metadata": {},
   "outputs": [],
   "source": [
    "dense_res = np.mean(np.array(acc_dic['dense']),axis=1)\n",
    "fin_res = np.mean(np.array(acc_dic['fin']),axis=1)"
   ]
  },
  {
   "cell_type": "code",
   "execution_count": 64,
   "id": "8e6c8303",
   "metadata": {},
   "outputs": [],
   "source": [
    "x = (fin_res-dense_res)*100\n",
    "f_cubic = interp1d(range(4), x, kind='quadratic')"
   ]
  },
  {
   "cell_type": "code",
   "execution_count": 65,
   "id": "1d795732",
   "metadata": {},
   "outputs": [],
   "source": [
    "#define x as 200 equally spaced values between the min and max of original x \n",
    "xnew = np.linspace(0, 3, 100)"
   ]
  },
  {
   "cell_type": "code",
   "execution_count": 66,
   "id": "bfad7c75",
   "metadata": {},
   "outputs": [
    {
     "data": {
      "text/plain": [
       "Text(0, 0.5, 'difference in accuracy (percent)')"
      ]
     },
     "execution_count": 66,
     "metadata": {},
     "output_type": "execute_result"
    },
    {
     "data": {
      "image/png": "[encoded data removed]",
      "text/plain": [
       "<Figure size 432x288 with 1 Axes>"
      ]
     },
     "metadata": {
      "needs_background": "light"
     },
     "output_type": "display_data"
    }
   ],
   "source": [
    "plt.plot(range(100),f_cubic(xnew))\n",
    "plt.xticks(range(0,125,25), ['20%','40%','60%','80%','100%']) #, rotation='vertical')\n",
    "plt.xlabel('percentage of data used') \n",
    "plt.ylabel('difference in accuracy (percent)') "
   ]
  },
  {
   "cell_type": "code",
   "execution_count": 153,
   "id": "a4e03bc4",
   "metadata": {},
   "outputs": [],
   "source": [
    "'''\n",
    "res_dict = {'bse_trn_loss':loss_d.history['loss'],\n",
    "            'bse_val_loss':loss_d.history['val_loss'],\n",
    "            'fin_trn_loss':loss_2.history['loss'],\n",
    "            'fin_val_loss':loss_2.history['val_loss'],\n",
    "            'bse_acc':accuracy_score(y_pred,y_tst),\n",
    "            'fin_acc':accuracy_score(y2_pred,y_tst),\n",
    "           }\n",
    "np.save(str(h)+'_res_file_a.npy', res_dict) \n",
    "'''"
   ]
  },
  {
   "cell_type": "code",
   "execution_count": 354,
   "id": "5460dcbb",
   "metadata": {},
   "outputs": [],
   "source": [
    "def reinitialize_model(model):\n",
    "    weights = []\n",
    "    initializers = []\n",
    "    for layer in model.layers:\n",
    "        if isinstance(layer, (keras.layers.Dense, keras.layers.Conv2D)):\n",
    "            weights += [layer.kernel, layer.bias]\n",
    "            initializers += [layer.kernel_initializer, layer.bias_initializer]\n",
    "        elif isinstance(layer, keras.layers.BatchNormalization):\n",
    "            weights += [layer.gamma, layer.beta, layer.moving_mean, layer.moving_variance]\n",
    "            initializers += [layer.gamma_initializer,\n",
    "                           layer.beta_initializer,\n",
    "                           layer.moving_mean_initializer,\n",
    "                           layer.moving_variance_initializer]\n",
    "    #print(weights)\n",
    "    for w, init in zip(weights, initializers):\n",
    "        w.assign(init(w.shape, dtype=w.dtype))"
   ]
  },
  {
   "cell_type": "code",
   "execution_count": 355,
   "id": "5c1087ee",
   "metadata": {},
   "outputs": [],
   "source": [
    "sh_model1 = load_model('./dense_test.h5')\n",
    "reinitialize_model(sh_model1)"
   ]
  },
  {
   "cell_type": "markdown",
   "id": "0cf907fe",
   "metadata": {},
   "source": [
    "# Exampel of how to use the VGG"
   ]
  },
  {
   "cell_type": "code",
   "execution_count": 30,
   "id": "8b53d0b5",
   "metadata": {},
   "outputs": [],
   "source": [
    "vgg = get_vgg(vx,2)"
   ]
  },
  {
   "cell_type": "code",
   "execution_count": 31,
   "id": "95629b28",
   "metadata": {},
   "outputs": [
    {
     "name": "stdout",
     "output_type": "stream",
     "text": [
      "Model: \"model\"\n",
      "_________________________________________________________________\n",
      "Layer (type)                 Output Shape              Param #   \n",
      "=================================================================\n",
      "input_1 (InputLayer)         [(None, 500, 32, 3)]      0         \n",
      "_________________________________________________________________\n",
      "block1_conv1 (Conv2D)        (None, 500, 32, 64)       1792      \n",
      "_________________________________________________________________\n",
      "block1_conv2 (Conv2D)        (None, 500, 32, 64)       36928     \n",
      "_________________________________________________________________\n",
      "block1_pool (MaxPooling2D)   (None, 250, 16, 64)       0         \n",
      "_________________________________________________________________\n",
      "block2_conv1 (Conv2D)        (None, 250, 16, 128)      73856     \n",
      "_________________________________________________________________\n",
      "block2_conv2 (Conv2D)        (None, 250, 16, 128)      147584    \n",
      "_________________________________________________________________\n",
      "block2_pool (MaxPooling2D)   (None, 125, 8, 128)       0         \n",
      "_________________________________________________________________\n",
      "block3_conv1 (Conv2D)        (None, 125, 8, 256)       295168    \n",
      "_________________________________________________________________\n",
      "block3_conv2 (Conv2D)        (None, 125, 8, 256)       590080    \n",
      "_________________________________________________________________\n",
      "block3_conv3 (Conv2D)        (None, 125, 8, 256)       590080    \n",
      "_________________________________________________________________\n",
      "block3_conv4 (Conv2D)        (None, 125, 8, 256)       590080    \n",
      "_________________________________________________________________\n",
      "block3_pool (MaxPooling2D)   (None, 62, 4, 256)        0         \n",
      "_________________________________________________________________\n",
      "block4_conv1 (Conv2D)        (None, 62, 4, 512)        1180160   \n",
      "_________________________________________________________________\n",
      "block4_conv2 (Conv2D)        (None, 62, 4, 512)        2359808   \n",
      "_________________________________________________________________\n",
      "block4_conv3 (Conv2D)        (None, 62, 4, 512)        2359808   \n",
      "_________________________________________________________________\n",
      "block4_conv4 (Conv2D)        (None, 62, 4, 512)        2359808   \n",
      "_________________________________________________________________\n",
      "block4_pool (MaxPooling2D)   (None, 31, 2, 512)        0         \n",
      "_________________________________________________________________\n",
      "block5_conv1 (Conv2D)        (None, 31, 2, 512)        2359808   \n",
      "_________________________________________________________________\n",
      "block5_conv2 (Conv2D)        (None, 31, 2, 512)        2359808   \n",
      "_________________________________________________________________\n",
      "block5_conv3 (Conv2D)        (None, 31, 2, 512)        2359808   \n",
      "_________________________________________________________________\n",
      "block5_conv4 (Conv2D)        (None, 31, 2, 512)        2359808   \n",
      "_________________________________________________________________\n",
      "block5_pool (MaxPooling2D)   (None, 15, 1, 512)        0         \n",
      "_________________________________________________________________\n",
      "flatten (Flatten)            (None, 7680)              0         \n",
      "_________________________________________________________________\n",
      "dense (Dense)                (None, 2)                 15362     \n",
      "=================================================================\n",
      "Total params: 20,039,746\n",
      "Trainable params: 20,039,746\n",
      "Non-trainable params: 0\n",
      "_________________________________________________________________\n"
     ]
    }
   ],
   "source": [
    "vgg.summary()"
   ]
  },
  {
   "cell_type": "code",
   "execution_count": null,
   "id": "56327f0f",
   "metadata": {},
   "outputs": [],
   "source": []
  }
 ],
 "metadata": {
  "kernelspec": {
   "display_name": "Python 3",
   "language": "python",
   "name": "python3"
  },
  "language_info": {
   "codemirror_mode": {
    "name": "ipython",
    "version": 3
   },
   "file_extension": ".py",
   "mimetype": "text/x-python",
   "name": "python",
   "nbconvert_exporter": "python",
   "pygments_lexer": "ipython3",
   "version": "3.6.13"
  }
 },
 "nbformat": 4,
 "nbformat_minor": 5
}
