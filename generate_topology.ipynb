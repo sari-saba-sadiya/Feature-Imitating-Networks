{
 "cells": [
  {
   "cell_type": "code",
   "execution_count": 2,
   "id": "87c4ec1c",
   "metadata": {},
   "outputs": [],
   "source": [
    "import numpy as np"
   ]
  },
  {
   "cell_type": "code",
   "execution_count": 3,
   "id": "eca72556",
   "metadata": {},
   "outputs": [],
   "source": [
    "np.random.seed(1337)"
   ]
  },
  {
   "cell_type": "code",
   "execution_count": 4,
   "id": "33ce6605",
   "metadata": {},
   "outputs": [],
   "source": [
    "all_tp = []\n",
    "for i in range(100):\n",
    "    topology = {}\n",
    "    topology['layers'] = []\n",
    "    num_layers = np.random.randint(3, 8)\n",
    "    layer_length = [32,64,128,256,512,1024,1280]\n",
    "    for ii in range(num_layers):\n",
    "        layer = {}\n",
    "        layer['output_shape'] = layer_length[np.random.randint(len(layer_length))]\n",
    "        layer['activation'] = 'relu'\n",
    "        topology['layers'].append(layer)\n",
    "        layer['BatchNorm'] = np.random.choice([False, True])\n",
    "    p = [0.01, 1e-02,1e-03,1e-04,1e-05,1e-06,1e-07,1e-08,1e-09]\n",
    "    topology['lr'] = p[np.random.randint(len(p))]\n",
    "    p = [1e-05,1e-06,1e-07,1e-08,1e-09,0]\n",
    "    topology['momentum'] = p[np.random.randint(len(p))]\n",
    "    topology['nesterov'] = np.random.choice([False, True])\n",
    "    p = [0.94, 0.92, 0.9, 0.88, 0.86, 0.84, 0.82]\n",
    "    topology['b1'] = p[np.random.randint(len(p))]\n",
    "    p = [0.995, 0.99, 0.985, 0.98, 0.975, 0.97,0.96,0.95,0.94]\n",
    "    topology['b2'] = p[np.random.randint(len(p))]\n",
    "    topology['opt'] = np.random.choice(['SGD', 'ADAM'])\n",
    "    all_tp.append(topology)"
   ]
  },
  {
   "cell_type": "code",
   "execution_count": 5,
   "id": "c3e528b7",
   "metadata": {},
   "outputs": [],
   "source": [
    "np.save('hyper_parameters.npy',all_tp)"
   ]
  },
  {
   "cell_type": "code",
   "execution_count": null,
   "id": "efba111e",
   "metadata": {},
   "outputs": [],
   "source": []
  }
 ],
 "metadata": {
  "kernelspec": {
   "display_name": "Python 3",
   "language": "python",
   "name": "python3"
  },
  "language_info": {
   "codemirror_mode": {
    "name": "ipython",
    "version": 3
   },
   "file_extension": ".py",
   "mimetype": "text/x-python",
   "name": "python",
   "nbconvert_exporter": "python",
   "pygments_lexer": "ipython3",
   "version": "3.6.13"
  }
 },
 "nbformat": 4,
 "nbformat_minor": 5
}
